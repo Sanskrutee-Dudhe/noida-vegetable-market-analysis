{
 "cells": [
  {
   "cell_type": "code",
   "execution_count": 23,
   "id": "221053e9",
   "metadata": {},
   "outputs": [],
   "source": [
    "import selenium\n",
    "from selenium import webdriver\n",
    "from selenium.webdriver.chrome.options import Options\n",
    "from webdriver_manager.chrome import ChromeDriverManager\n",
    "from selenium.webdriver.common.keys import Keys\n",
    "import csv\n",
    "import time"
   ]
  },
  {
   "cell_type": "code",
   "execution_count": 24,
   "id": "faca5855",
   "metadata": {},
   "outputs": [
    {
     "name": "stderr",
     "output_type": "stream",
     "text": [
      "C:\\Users\\91626\\AppData\\Local\\Temp\\ipykernel_24056\\2376129260.py:3: DeprecationWarning: executable_path has been deprecated, please pass in a Service object\n",
      "  driver = webdriver.Chrome(ChromeDriverManager().install(),options=options)\n"
     ]
    }
   ],
   "source": [
    "options = webdriver.ChromeOptions()\n",
    "options.add_argument(\"user-agent=Mozilla/5.0 (Windows NT 10.0; Win64; x64) AppleWebKit/537.36 (KHTML, like Gecko) Chrome/58.0.3029.110 Safari/537.3\")\n",
    "driver = webdriver.Chrome(ChromeDriverManager().install(),options=options)"
   ]
  },
  {
   "cell_type": "code",
   "execution_count": 27,
   "id": "7c2a417d",
   "metadata": {
    "scrolled": true
   },
   "outputs": [
    {
     "name": "stdout",
     "output_type": "stream",
     "text": [
      "Put month//year like this Jan 2020 pls note to provide gap between month and yearNov 2022\n",
      "Nov 2022\n",
      "Put month//year like this Jan 2020 pls note to provide gap between month and year and also gap between start month and end_month should be <=5 monthsMar 2023\n",
      "Mar 2023\n",
      "Jan 2023\n",
      "Feb 2023\n",
      "Mar 2023\n",
      "121\n",
      "121 header_length\n"
     ]
    }
   ],
   "source": [
    "driver.get(\"https://vegetablemarketprice.com/market/delhi/history\")\n",
    "\n",
    "driver.implicitly_wait(5)\n",
    "\n",
    "# Getting table then setting custom range \n",
    "\n",
    "driver.find_element(\"xpath\",\"//a[@id='navItemTable']\").click()\n",
    "driver.find_element(\"xpath\",\"//div[@class='svg-file-icon svg-file-chevron-down']\").click()\n",
    "driver.find_element(\"xpath\",\"//li[contains(text(),'Custom Range')]\").click()\n",
    "\n",
    "#Starting Month\n",
    "month = input(\"Put month//year like this Jan 2020 pls note to provide gap between month and year\")\n",
    "print(month)\n",
    "f_month = ''\n",
    "while month != f_month:\n",
    "    driver.find_element(\"xpath\",\"//th[@class='prev available']\").click()\n",
    "    f_month = driver.find_element(\"xpath\",\"//div[@class='drp-calendar left']//th[@class='month']\").text\n",
    "\n",
    "\n",
    "try:\n",
    "    driver.find_element(\"xpath\",\"//div[@class='drp-calendar left']//td[@class='available' and contains(text(),'26')]\").click()\n",
    "except:driver.find_element(\"xpath\",\"//div[@class='drp-calendar left']//td[@class='weekend available' and contains(text(),'26')]\").click()\n",
    "\n",
    "\n",
    "end_month =  input(\"Put month//year like this Jan 2020 pls note to provide gap between month and year and also gap between start month and end_month should be <=5 months\")\n",
    "print(end_month)\n",
    "e_month = driver.find_element(\"xpath\",\"//div[@class='drp-calendar left']//th[@class='month']\").text\n",
    "\n",
    "while end_month != e_month:\n",
    "    driver.find_element(\"xpath\",\"//th[@class='next available']\").click()\n",
    "    e_month = driver.find_element(\"xpath\",\"//div[@class='drp-calendar right']//th[@class='month']\").text\n",
    "    print(e_month)\n",
    "\n",
    "\n",
    "try:\n",
    "    driver.find_element(\"xpath\",\"//div[@class='drp-calendar right']//tr[5]//td[contains(text(),'25')]\").click()\n",
    "except:\n",
    "    try:\n",
    "        driver.find_element(\"xpath\",\"//div[@class='drp-calendar right']//tr[4]//td[contains(text(),'25')]\").click()\n",
    "    except:\n",
    "        try:\n",
    "            driver.find_element(\"xpath\",\"//div[@class='drp-calendar right']//tr[3]//td[contains(text(),'25')]\").click()\n",
    "        except:\n",
    "            driver.find_element(\"xpath\",\"//div[@class='drp-calendar right']//tr[6]//td[contains(text(),'25')]\").click()\n",
    "\n",
    "\n",
    "driver.find_element(\"xpath\",\"//button[@class='applyBtn btn btn-sm btn-primary']\").click()\n",
    "\n",
    "\n",
    "veg_1 = driver.find_element(\"xpath\",\"//input[@name='search_terms']\")\n",
    "veg_1.send_keys(\"Amla\")\n",
    "veg_1.send_keys(Keys.ENTER)\n",
    "\n",
    "\n",
    "veg_2 = driver.find_element(\"xpath\",\"//input[@name='search_terms']\")\n",
    "veg_2.send_keys(\"Potato\")\n",
    "veg_2.send_keys(Keys.ENTER)\n",
    "\n",
    "\n",
    "\n",
    "veg_3 = driver.find_element(\"xpath\",\"//input[@name='search_terms']\")\n",
    "veg_3.send_keys(\"Coriander Leaves\")\n",
    "veg_3.send_keys(Keys.ENTER)\n",
    "\n",
    "time.sleep(2)\n",
    "dates = driver.find_elements(\"xpath\",\"//table[@class='table']/thead//th\")\n",
    "print(len(dates))\n",
    "heade = ['Veg_Name']\n",
    "for i in range(len(dates)):\n",
    "    if i!=0:\n",
    "        heade.append(dates[i].text)\n",
    "\n",
    "print(len(heade),\"header_length\")\n",
    "\n",
    "with open(\"veges.csv\",'a+',encoding='UTF8' ,newline='') as f:    \n",
    "        writer = csv.DictWriter(f, fieldnames = heade)\n",
    "        writer.writeheader()\n",
    "\n",
    "\n",
    "rows = driver.find_elements(\"xpath\",\"//table[@class='table']/tbody//tr\")\n",
    "dit = dict()\n",
    "\n",
    "\n",
    "for i in rows:\n",
    "    data = []\n",
    "    row_item = i.find_elements(\"xpath\",\".//td\")\n",
    "    for j,k in zip(heade, row_item):\n",
    "        dit[j]= k.text\n",
    "    data.append(dit)\n",
    "    \n",
    "\n",
    "    with open(\"veges.csv\",'a+',encoding='UTF8' ,newline='') as f:\n",
    "            writer = csv.DictWriter(f, fieldnames = heade)\n",
    "            writer.writerows(data)"
   ]
  },
  {
   "cell_type": "code",
   "execution_count": null,
   "id": "0cebf36f",
   "metadata": {},
   "outputs": [],
   "source": []
  }
 ],
 "metadata": {
  "kernelspec": {
   "display_name": "Python 3 (ipykernel)",
   "language": "python",
   "name": "python3"
  },
  "language_info": {
   "codemirror_mode": {
    "name": "ipython",
    "version": 3
   },
   "file_extension": ".py",
   "mimetype": "text/x-python",
   "name": "python",
   "nbconvert_exporter": "python",
   "pygments_lexer": "ipython3",
   "version": "3.9.12"
  }
 },
 "nbformat": 4,
 "nbformat_minor": 5
}
